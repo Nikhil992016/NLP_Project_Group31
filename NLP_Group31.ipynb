{
  "nbformat": 4,
  "nbformat_minor": 0,
  "metadata": {
    "colab": {
      "provenance": []
    },
    "kernelspec": {
      "name": "python3",
      "display_name": "Python 3"
    },
    "language_info": {
      "name": "python"
    }
  },
  "cells": [
    {
      "cell_type": "markdown",
      "source": [
        "# **Required Installation**"
      ],
      "metadata": {
        "id": "omaxCbk899hj"
      }
    },
    {
      "cell_type": "code",
      "execution_count": null,
      "metadata": {
        "colab": {
          "base_uri": "https://localhost:8080/"
        },
        "id": "tXH5wOTl6SwA",
        "outputId": "70bf10f2-30c9-461e-9a6d-69614f27d6d5"
      },
      "outputs": [
        {
          "output_type": "stream",
          "name": "stdout",
          "text": [
            "Requirement already satisfied: playwright in /usr/local/lib/python3.11/dist-packages (1.51.0)\n",
            "Requirement already satisfied: pyee<13,>=12 in /usr/local/lib/python3.11/dist-packages (from playwright) (12.1.1)\n",
            "Requirement already satisfied: greenlet<4.0.0,>=3.1.1 in /usr/local/lib/python3.11/dist-packages (from playwright) (3.1.1)\n",
            "Requirement already satisfied: typing-extensions in /usr/local/lib/python3.11/dist-packages (from pyee<13,>=12->playwright) (4.13.1)\n",
            "Playwright Host validation warning: \n",
            "╔══════════════════════════════════════════════════════╗\n",
            "║ Host system is missing dependencies to run browsers. ║\n",
            "║ Missing libraries:                                   ║\n",
            "║     libwoff2dec.so.1.0.2                             ║\n",
            "║     libgstgl-1.0.so.0                                ║\n",
            "║     libgstcodecparsers-1.0.so.0                      ║\n",
            "║     libavif.so.13                                    ║\n",
            "║     libharfbuzz-icu.so.0                             ║\n",
            "║     libenchant-2.so.2                                ║\n",
            "║     libsecret-1.so.0                                 ║\n",
            "║     libhyphen.so.0                                   ║\n",
            "║     libmanette-0.2.so.0                              ║\n",
            "╚══════════════════════════════════════════════════════╝\n",
            "    at validateDependenciesLinux (/usr/local/lib/python3.11/dist-packages/playwright/driver/package/lib/server/registry/dependencies.js:216:9)\n",
            "\u001b[90m    at process.processTicksAndRejections (node:internal/process/task_queues:105:5)\u001b[39m\n",
            "    at async Registry._validateHostRequirements (/usr/local/lib/python3.11/dist-packages/playwright/driver/package/lib/server/registry/index.js:859:52)\n",
            "    at async Registry._validateHostRequirementsForExecutableIfNeeded (/usr/local/lib/python3.11/dist-packages/playwright/driver/package/lib/server/registry/index.js:957:7)\n",
            "    at async Registry.validateHostRequirementsForExecutablesIfNeeded (/usr/local/lib/python3.11/dist-packages/playwright/driver/package/lib/server/registry/index.js:946:43)\n",
            "    at async t.<anonymous> (/usr/local/lib/python3.11/dist-packages/playwright/driver/package/lib/cli/program.js:122:7)\n"
          ]
        },
        {
          "output_type": "stream",
          "name": "stderr",
          "text": [
            "[nltk_data] Downloading collection 'all'\n",
            "[nltk_data]    | \n",
            "[nltk_data]    | Downloading package abc to /root/nltk_data...\n",
            "[nltk_data]    |   Package abc is already up-to-date!\n",
            "[nltk_data]    | Downloading package alpino to /root/nltk_data...\n",
            "[nltk_data]    |   Package alpino is already up-to-date!\n",
            "[nltk_data]    | Downloading package averaged_perceptron_tagger to\n",
            "[nltk_data]    |     /root/nltk_data...\n",
            "[nltk_data]    |   Package averaged_perceptron_tagger is already up-\n",
            "[nltk_data]    |       to-date!\n",
            "[nltk_data]    | Downloading package averaged_perceptron_tagger_eng to\n",
            "[nltk_data]    |     /root/nltk_data...\n",
            "[nltk_data]    |   Package averaged_perceptron_tagger_eng is already\n",
            "[nltk_data]    |       up-to-date!\n",
            "[nltk_data]    | Downloading package averaged_perceptron_tagger_ru to\n",
            "[nltk_data]    |     /root/nltk_data...\n",
            "[nltk_data]    |   Package averaged_perceptron_tagger_ru is already\n",
            "[nltk_data]    |       up-to-date!\n",
            "[nltk_data]    | Downloading package averaged_perceptron_tagger_rus to\n",
            "[nltk_data]    |     /root/nltk_data...\n",
            "[nltk_data]    |   Package averaged_perceptron_tagger_rus is already\n",
            "[nltk_data]    |       up-to-date!\n",
            "[nltk_data]    | Downloading package basque_grammars to\n",
            "[nltk_data]    |     /root/nltk_data...\n",
            "[nltk_data]    |   Package basque_grammars is already up-to-date!\n",
            "[nltk_data]    | Downloading package bcp47 to /root/nltk_data...\n",
            "[nltk_data]    |   Package bcp47 is already up-to-date!\n",
            "[nltk_data]    | Downloading package biocreative_ppi to\n",
            "[nltk_data]    |     /root/nltk_data...\n",
            "[nltk_data]    |   Package biocreative_ppi is already up-to-date!\n",
            "[nltk_data]    | Downloading package bllip_wsj_no_aux to\n",
            "[nltk_data]    |     /root/nltk_data...\n",
            "[nltk_data]    |   Package bllip_wsj_no_aux is already up-to-date!\n",
            "[nltk_data]    | Downloading package book_grammars to\n",
            "[nltk_data]    |     /root/nltk_data...\n",
            "[nltk_data]    |   Package book_grammars is already up-to-date!\n",
            "[nltk_data]    | Downloading package brown to /root/nltk_data...\n",
            "[nltk_data]    |   Package brown is already up-to-date!\n",
            "[nltk_data]    | Downloading package brown_tei to /root/nltk_data...\n",
            "[nltk_data]    |   Package brown_tei is already up-to-date!\n",
            "[nltk_data]    | Downloading package cess_cat to /root/nltk_data...\n",
            "[nltk_data]    |   Package cess_cat is already up-to-date!\n",
            "[nltk_data]    | Downloading package cess_esp to /root/nltk_data...\n",
            "[nltk_data]    |   Package cess_esp is already up-to-date!\n",
            "[nltk_data]    | Downloading package chat80 to /root/nltk_data...\n",
            "[nltk_data]    |   Package chat80 is already up-to-date!\n",
            "[nltk_data]    | Downloading package city_database to\n",
            "[nltk_data]    |     /root/nltk_data...\n",
            "[nltk_data]    |   Package city_database is already up-to-date!\n",
            "[nltk_data]    | Downloading package cmudict to /root/nltk_data...\n",
            "[nltk_data]    |   Package cmudict is already up-to-date!\n",
            "[nltk_data]    | Downloading package comparative_sentences to\n",
            "[nltk_data]    |     /root/nltk_data...\n",
            "[nltk_data]    |   Package comparative_sentences is already up-to-\n",
            "[nltk_data]    |       date!\n",
            "[nltk_data]    | Downloading package comtrans to /root/nltk_data...\n",
            "[nltk_data]    |   Package comtrans is already up-to-date!\n",
            "[nltk_data]    | Downloading package conll2000 to /root/nltk_data...\n",
            "[nltk_data]    |   Package conll2000 is already up-to-date!\n",
            "[nltk_data]    | Downloading package conll2002 to /root/nltk_data...\n",
            "[nltk_data]    |   Package conll2002 is already up-to-date!\n",
            "[nltk_data]    | Downloading package conll2007 to /root/nltk_data...\n",
            "[nltk_data]    |   Package conll2007 is already up-to-date!\n",
            "[nltk_data]    | Downloading package crubadan to /root/nltk_data...\n",
            "[nltk_data]    |   Package crubadan is already up-to-date!\n",
            "[nltk_data]    | Downloading package dependency_treebank to\n",
            "[nltk_data]    |     /root/nltk_data...\n",
            "[nltk_data]    |   Package dependency_treebank is already up-to-date!\n",
            "[nltk_data]    | Downloading package dolch to /root/nltk_data...\n",
            "[nltk_data]    |   Package dolch is already up-to-date!\n",
            "[nltk_data]    | Downloading package english_wordnet to\n",
            "[nltk_data]    |     /root/nltk_data...\n",
            "[nltk_data]    |   Package english_wordnet is already up-to-date!\n",
            "[nltk_data]    | Downloading package europarl_raw to\n",
            "[nltk_data]    |     /root/nltk_data...\n",
            "[nltk_data]    |   Package europarl_raw is already up-to-date!\n",
            "[nltk_data]    | Downloading package extended_omw to\n",
            "[nltk_data]    |     /root/nltk_data...\n",
            "[nltk_data]    |   Package extended_omw is already up-to-date!\n",
            "[nltk_data]    | Downloading package floresta to /root/nltk_data...\n",
            "[nltk_data]    |   Package floresta is already up-to-date!\n",
            "[nltk_data]    | Downloading package framenet_v15 to\n",
            "[nltk_data]    |     /root/nltk_data...\n",
            "[nltk_data]    |   Package framenet_v15 is already up-to-date!\n",
            "[nltk_data]    | Downloading package framenet_v17 to\n",
            "[nltk_data]    |     /root/nltk_data...\n",
            "[nltk_data]    |   Package framenet_v17 is already up-to-date!\n",
            "[nltk_data]    | Downloading package gazetteers to /root/nltk_data...\n",
            "[nltk_data]    |   Package gazetteers is already up-to-date!\n",
            "[nltk_data]    | Downloading package genesis to /root/nltk_data...\n",
            "[nltk_data]    |   Package genesis is already up-to-date!\n",
            "[nltk_data]    | Downloading package gutenberg to /root/nltk_data...\n",
            "[nltk_data]    |   Package gutenberg is already up-to-date!\n",
            "[nltk_data]    | Downloading package ieer to /root/nltk_data...\n",
            "[nltk_data]    |   Package ieer is already up-to-date!\n",
            "[nltk_data]    | Downloading package inaugural to /root/nltk_data...\n",
            "[nltk_data]    |   Package inaugural is already up-to-date!\n",
            "[nltk_data]    | Downloading package indian to /root/nltk_data...\n",
            "[nltk_data]    |   Package indian is already up-to-date!\n",
            "[nltk_data]    | Downloading package jeita to /root/nltk_data...\n",
            "[nltk_data]    |   Package jeita is already up-to-date!\n",
            "[nltk_data]    | Downloading package kimmo to /root/nltk_data...\n",
            "[nltk_data]    |   Package kimmo is already up-to-date!\n",
            "[nltk_data]    | Downloading package knbc to /root/nltk_data...\n",
            "[nltk_data]    |   Package knbc is already up-to-date!\n",
            "[nltk_data]    | Downloading package large_grammars to\n",
            "[nltk_data]    |     /root/nltk_data...\n",
            "[nltk_data]    |   Package large_grammars is already up-to-date!\n",
            "[nltk_data]    | Downloading package lin_thesaurus to\n",
            "[nltk_data]    |     /root/nltk_data...\n",
            "[nltk_data]    |   Package lin_thesaurus is already up-to-date!\n",
            "[nltk_data]    | Downloading package mac_morpho to /root/nltk_data...\n",
            "[nltk_data]    |   Package mac_morpho is already up-to-date!\n",
            "[nltk_data]    | Downloading package machado to /root/nltk_data...\n",
            "[nltk_data]    |   Package machado is already up-to-date!\n",
            "[nltk_data]    | Downloading package masc_tagged to /root/nltk_data...\n",
            "[nltk_data]    |   Package masc_tagged is already up-to-date!\n",
            "[nltk_data]    | Downloading package maxent_ne_chunker to\n",
            "[nltk_data]    |     /root/nltk_data...\n",
            "[nltk_data]    |   Package maxent_ne_chunker is already up-to-date!\n",
            "[nltk_data]    | Downloading package maxent_ne_chunker_tab to\n",
            "[nltk_data]    |     /root/nltk_data...\n",
            "[nltk_data]    |   Package maxent_ne_chunker_tab is already up-to-\n",
            "[nltk_data]    |       date!\n",
            "[nltk_data]    | Downloading package maxent_treebank_pos_tagger to\n",
            "[nltk_data]    |     /root/nltk_data...\n",
            "[nltk_data]    |   Package maxent_treebank_pos_tagger is already up-\n",
            "[nltk_data]    |       to-date!\n",
            "[nltk_data]    | Downloading package maxent_treebank_pos_tagger_tab to\n",
            "[nltk_data]    |     /root/nltk_data...\n",
            "[nltk_data]    |   Package maxent_treebank_pos_tagger_tab is already\n",
            "[nltk_data]    |       up-to-date!\n",
            "[nltk_data]    | Downloading package moses_sample to\n",
            "[nltk_data]    |     /root/nltk_data...\n",
            "[nltk_data]    |   Package moses_sample is already up-to-date!\n",
            "[nltk_data]    | Downloading package movie_reviews to\n",
            "[nltk_data]    |     /root/nltk_data...\n",
            "[nltk_data]    |   Package movie_reviews is already up-to-date!\n",
            "[nltk_data]    | Downloading package mte_teip5 to /root/nltk_data...\n",
            "[nltk_data]    |   Package mte_teip5 is already up-to-date!\n",
            "[nltk_data]    | Downloading package mwa_ppdb to /root/nltk_data...\n",
            "[nltk_data]    |   Package mwa_ppdb is already up-to-date!\n",
            "[nltk_data]    | Downloading package names to /root/nltk_data...\n",
            "[nltk_data]    |   Package names is already up-to-date!\n",
            "[nltk_data]    | Downloading package nombank.1.0 to /root/nltk_data...\n",
            "[nltk_data]    |   Package nombank.1.0 is already up-to-date!\n",
            "[nltk_data]    | Downloading package nonbreaking_prefixes to\n",
            "[nltk_data]    |     /root/nltk_data...\n",
            "[nltk_data]    |   Package nonbreaking_prefixes is already up-to-date!\n",
            "[nltk_data]    | Downloading package nps_chat to /root/nltk_data...\n",
            "[nltk_data]    |   Package nps_chat is already up-to-date!\n",
            "[nltk_data]    | Downloading package omw to /root/nltk_data...\n",
            "[nltk_data]    |   Package omw is already up-to-date!\n",
            "[nltk_data]    | Downloading package omw-1.4 to /root/nltk_data...\n",
            "[nltk_data]    |   Package omw-1.4 is already up-to-date!\n",
            "[nltk_data]    | Downloading package opinion_lexicon to\n",
            "[nltk_data]    |     /root/nltk_data...\n",
            "[nltk_data]    |   Package opinion_lexicon is already up-to-date!\n",
            "[nltk_data]    | Downloading package panlex_swadesh to\n",
            "[nltk_data]    |     /root/nltk_data...\n",
            "[nltk_data]    |   Package panlex_swadesh is already up-to-date!\n",
            "[nltk_data]    | Downloading package paradigms to /root/nltk_data...\n",
            "[nltk_data]    |   Package paradigms is already up-to-date!\n",
            "[nltk_data]    | Downloading package pe08 to /root/nltk_data...\n",
            "[nltk_data]    |   Package pe08 is already up-to-date!\n",
            "[nltk_data]    | Downloading package perluniprops to\n",
            "[nltk_data]    |     /root/nltk_data...\n",
            "[nltk_data]    |   Package perluniprops is already up-to-date!\n",
            "[nltk_data]    | Downloading package pil to /root/nltk_data...\n",
            "[nltk_data]    |   Package pil is already up-to-date!\n",
            "[nltk_data]    | Downloading package pl196x to /root/nltk_data...\n",
            "[nltk_data]    |   Package pl196x is already up-to-date!\n",
            "[nltk_data]    | Downloading package porter_test to /root/nltk_data...\n",
            "[nltk_data]    |   Package porter_test is already up-to-date!\n",
            "[nltk_data]    | Downloading package ppattach to /root/nltk_data...\n",
            "[nltk_data]    |   Package ppattach is already up-to-date!\n",
            "[nltk_data]    | Downloading package problem_reports to\n",
            "[nltk_data]    |     /root/nltk_data...\n",
            "[nltk_data]    |   Package problem_reports is already up-to-date!\n",
            "[nltk_data]    | Downloading package product_reviews_1 to\n",
            "[nltk_data]    |     /root/nltk_data...\n",
            "[nltk_data]    |   Package product_reviews_1 is already up-to-date!\n",
            "[nltk_data]    | Downloading package product_reviews_2 to\n",
            "[nltk_data]    |     /root/nltk_data...\n",
            "[nltk_data]    |   Package product_reviews_2 is already up-to-date!\n",
            "[nltk_data]    | Downloading package propbank to /root/nltk_data...\n",
            "[nltk_data]    |   Package propbank is already up-to-date!\n",
            "[nltk_data]    | Downloading package pros_cons to /root/nltk_data...\n",
            "[nltk_data]    |   Package pros_cons is already up-to-date!\n",
            "[nltk_data]    | Downloading package ptb to /root/nltk_data...\n",
            "[nltk_data]    |   Package ptb is already up-to-date!\n",
            "[nltk_data]    | Downloading package punkt to /root/nltk_data...\n",
            "[nltk_data]    |   Package punkt is already up-to-date!\n",
            "[nltk_data]    | Downloading package punkt_tab to /root/nltk_data...\n",
            "[nltk_data]    |   Package punkt_tab is already up-to-date!\n",
            "[nltk_data]    | Downloading package qc to /root/nltk_data...\n",
            "[nltk_data]    |   Package qc is already up-to-date!\n",
            "[nltk_data]    | Downloading package reuters to /root/nltk_data...\n",
            "[nltk_data]    |   Package reuters is already up-to-date!\n",
            "[nltk_data]    | Downloading package rslp to /root/nltk_data...\n",
            "[nltk_data]    |   Package rslp is already up-to-date!\n",
            "[nltk_data]    | Downloading package rte to /root/nltk_data...\n",
            "[nltk_data]    |   Package rte is already up-to-date!\n",
            "[nltk_data]    | Downloading package sample_grammars to\n",
            "[nltk_data]    |     /root/nltk_data...\n",
            "[nltk_data]    |   Package sample_grammars is already up-to-date!\n",
            "[nltk_data]    | Downloading package semcor to /root/nltk_data...\n",
            "[nltk_data]    |   Package semcor is already up-to-date!\n",
            "[nltk_data]    | Downloading package senseval to /root/nltk_data...\n",
            "[nltk_data]    |   Package senseval is already up-to-date!\n",
            "[nltk_data]    | Downloading package sentence_polarity to\n",
            "[nltk_data]    |     /root/nltk_data...\n",
            "[nltk_data]    |   Package sentence_polarity is already up-to-date!\n",
            "[nltk_data]    | Downloading package sentiwordnet to\n",
            "[nltk_data]    |     /root/nltk_data...\n",
            "[nltk_data]    |   Package sentiwordnet is already up-to-date!\n",
            "[nltk_data]    | Downloading package shakespeare to /root/nltk_data...\n",
            "[nltk_data]    |   Package shakespeare is already up-to-date!\n",
            "[nltk_data]    | Downloading package sinica_treebank to\n",
            "[nltk_data]    |     /root/nltk_data...\n",
            "[nltk_data]    |   Package sinica_treebank is already up-to-date!\n",
            "[nltk_data]    | Downloading package smultron to /root/nltk_data...\n",
            "[nltk_data]    |   Package smultron is already up-to-date!\n",
            "[nltk_data]    | Downloading package snowball_data to\n",
            "[nltk_data]    |     /root/nltk_data...\n",
            "[nltk_data]    |   Package snowball_data is already up-to-date!\n",
            "[nltk_data]    | Downloading package spanish_grammars to\n",
            "[nltk_data]    |     /root/nltk_data...\n",
            "[nltk_data]    |   Package spanish_grammars is already up-to-date!\n",
            "[nltk_data]    | Downloading package state_union to /root/nltk_data...\n",
            "[nltk_data]    |   Package state_union is already up-to-date!\n",
            "[nltk_data]    | Downloading package stopwords to /root/nltk_data...\n",
            "[nltk_data]    |   Package stopwords is already up-to-date!\n",
            "[nltk_data]    | Downloading package subjectivity to\n",
            "[nltk_data]    |     /root/nltk_data...\n",
            "[nltk_data]    |   Package subjectivity is already up-to-date!\n",
            "[nltk_data]    | Downloading package swadesh to /root/nltk_data...\n",
            "[nltk_data]    |   Package swadesh is already up-to-date!\n",
            "[nltk_data]    | Downloading package switchboard to /root/nltk_data...\n",
            "[nltk_data]    |   Package switchboard is already up-to-date!\n",
            "[nltk_data]    | Downloading package tagsets to /root/nltk_data...\n",
            "[nltk_data]    |   Package tagsets is already up-to-date!\n",
            "[nltk_data]    | Downloading package tagsets_json to\n",
            "[nltk_data]    |     /root/nltk_data...\n",
            "[nltk_data]    |   Package tagsets_json is already up-to-date!\n",
            "[nltk_data]    | Downloading package timit to /root/nltk_data...\n",
            "[nltk_data]    |   Package timit is already up-to-date!\n",
            "[nltk_data]    | Downloading package toolbox to /root/nltk_data...\n",
            "[nltk_data]    |   Package toolbox is already up-to-date!\n",
            "[nltk_data]    | Downloading package treebank to /root/nltk_data...\n",
            "[nltk_data]    |   Package treebank is already up-to-date!\n",
            "[nltk_data]    | Downloading package twitter_samples to\n",
            "[nltk_data]    |     /root/nltk_data...\n",
            "[nltk_data]    |   Package twitter_samples is already up-to-date!\n",
            "[nltk_data]    | Downloading package udhr to /root/nltk_data...\n",
            "[nltk_data]    |   Package udhr is already up-to-date!\n",
            "[nltk_data]    | Downloading package udhr2 to /root/nltk_data...\n",
            "[nltk_data]    |   Package udhr2 is already up-to-date!\n",
            "[nltk_data]    | Downloading package unicode_samples to\n",
            "[nltk_data]    |     /root/nltk_data...\n",
            "[nltk_data]    |   Package unicode_samples is already up-to-date!\n",
            "[nltk_data]    | Downloading package universal_tagset to\n",
            "[nltk_data]    |     /root/nltk_data...\n",
            "[nltk_data]    |   Package universal_tagset is already up-to-date!\n",
            "[nltk_data]    | Downloading package universal_treebanks_v20 to\n",
            "[nltk_data]    |     /root/nltk_data...\n",
            "[nltk_data]    |   Package universal_treebanks_v20 is already up-to-\n",
            "[nltk_data]    |       date!\n",
            "[nltk_data]    | Downloading package vader_lexicon to\n",
            "[nltk_data]    |     /root/nltk_data...\n",
            "[nltk_data]    |   Package vader_lexicon is already up-to-date!\n",
            "[nltk_data]    | Downloading package verbnet to /root/nltk_data...\n",
            "[nltk_data]    |   Package verbnet is already up-to-date!\n",
            "[nltk_data]    | Downloading package verbnet3 to /root/nltk_data...\n",
            "[nltk_data]    |   Package verbnet3 is already up-to-date!\n",
            "[nltk_data]    | Downloading package webtext to /root/nltk_data...\n",
            "[nltk_data]    |   Package webtext is already up-to-date!\n",
            "[nltk_data]    | Downloading package wmt15_eval to /root/nltk_data...\n",
            "[nltk_data]    |   Package wmt15_eval is already up-to-date!\n",
            "[nltk_data]    | Downloading package word2vec_sample to\n",
            "[nltk_data]    |     /root/nltk_data...\n",
            "[nltk_data]    |   Package word2vec_sample is already up-to-date!\n",
            "[nltk_data]    | Downloading package wordnet to /root/nltk_data...\n",
            "[nltk_data]    |   Package wordnet is already up-to-date!\n",
            "[nltk_data]    | Downloading package wordnet2021 to /root/nltk_data...\n",
            "[nltk_data]    |   Package wordnet2021 is already up-to-date!\n",
            "[nltk_data]    | Downloading package wordnet2022 to /root/nltk_data...\n",
            "[nltk_data]    |   Package wordnet2022 is already up-to-date!\n",
            "[nltk_data]    | Downloading package wordnet31 to /root/nltk_data...\n",
            "[nltk_data]    |   Package wordnet31 is already up-to-date!\n",
            "[nltk_data]    | Downloading package wordnet_ic to /root/nltk_data...\n",
            "[nltk_data]    |   Package wordnet_ic is already up-to-date!\n",
            "[nltk_data]    | Downloading package words to /root/nltk_data...\n",
            "[nltk_data]    |   Package words is already up-to-date!\n",
            "[nltk_data]    | Downloading package ycoe to /root/nltk_data...\n",
            "[nltk_data]    |   Package ycoe is already up-to-date!\n",
            "[nltk_data]    | \n",
            "[nltk_data]  Done downloading collection all\n"
          ]
        },
        {
          "output_type": "execute_result",
          "data": {
            "text/plain": [
              "True"
            ]
          },
          "metadata": {},
          "execution_count": 12
        }
      ],
      "source": [
        "!pip install playwright\n",
        "!playwright install\n",
        "\n",
        "import nltk\n",
        "nltk.download('all')"
      ]
    },
    {
      "cell_type": "markdown",
      "source": [
        "# **Importing Libraries**"
      ],
      "metadata": {
        "id": "oFwWmMV7TCV2"
      }
    },
    {
      "cell_type": "code",
      "source": [
        "import re\n",
        "import time\n",
        "import nltk\n",
        "import spacy\n",
        "import random\n",
        "import asyncio\n",
        "import pandas as pd\n",
        "import nest_asyncio\n",
        "from collections import Counter\n",
        "from playwright.async_api import async_playwright\n",
        "from nltk.sentiment import SentimentIntensityAnalyzer"
      ],
      "metadata": {
        "id": "qcYPvwG4TGec"
      },
      "execution_count": null,
      "outputs": []
    },
    {
      "cell_type": "markdown",
      "source": [
        "# **Scrapping Reviews**"
      ],
      "metadata": {
        "id": "v5JYP1Sr-NZL"
      }
    },
    {
      "cell_type": "code",
      "source": [
        "nest_asyncio.apply()\n",
        "\n",
        "def clean_review(text):\n",
        "    text = re.sub(r'\\n+', ' ', text)\n",
        "    text = re.sub(r'\\s+', ' ', text).strip()\n",
        "    text = re.sub(r'by .* on \\w+ \\d{2}, \\d{4} Verified Buyer', '', text)  # Remove the verified buyer date\n",
        "    if re.fullmatch(r'\\d{1,2}-[A-Za-z]{3}-\\d{2}|\\w{3,9} \\d{1,2}, \\d{4}', text):\n",
        "        return None  # If the text is a date pattern, return None\n",
        "    text = re.sub(r'\\b\\w{3,9} \\d{1,2}, \\d{4}\\b', '', text)  # Remove other date patterns\n",
        "    text = re.sub(r'Most Helpful (Positive|Critical) Review \\(\\d+\\)', '', text)\n",
        "    return text.strip()\n",
        "\n",
        "# Async function to extract reviews for a product\n",
        "async def get_snapdeal_reviews(url):\n",
        "    async with async_playwright() as p:\n",
        "        browser = await p.chromium.launch(headless=True)\n",
        "        page = await browser.new_page()\n",
        "\n",
        "        try:\n",
        "            await page.goto(url, timeout=90000)\n",
        "\n",
        "            try:\n",
        "                product_name = await page.locator(\"h1\").text_content(timeout=60000)\n",
        "                product_name = product_name.strip() if product_name else \"Unknown Product\"\n",
        "            except Exception:\n",
        "                product_name = \"Unknown Product\"\n",
        "\n",
        "            reviews = set()\n",
        "            for page_num in range(1, 4):  # Pages 1 to 3\n",
        "                for rate_filter_value in range(1, 6):  # Ratings 1 to 5\n",
        "                    if len(reviews) >= 10:\n",
        "                        break\n",
        "\n",
        "                    filter_url = f\"{url}/reviews?page={page_num}&sortBy=HELPFUL&rateFilter={rate_filter_value}\"\n",
        "                    await page.goto(filter_url, timeout=60000)\n",
        "                    await page.wait_for_load_state(\"domcontentloaded\", timeout=60000)\n",
        "\n",
        "                    page_reviews = await page.locator(\".user-review\").all_text_contents()\n",
        "                    for review in page_reviews:\n",
        "                        cleaned = clean_review(review)\n",
        "                        if cleaned:\n",
        "                            reviews.add(cleaned)\n",
        "                        if len(reviews) >= 10:\n",
        "                            break\n",
        "\n",
        "                if len(reviews) >= 10:\n",
        "                    break\n",
        "\n",
        "            await browser.close()\n",
        "            return product_name, list(reviews)[:10]\n",
        "\n",
        "        except Exception as e:\n",
        "            print(f\"Error processing {url}: {str(e)}\")\n",
        "            await browser.close()\n",
        "            return None, []\n",
        "\n",
        "product_urls = [\n",
        "    \"https://www.snapdeal.com/product/arni-3-in-1-large/658713912149#bcrumbSearch:kitchen\",\n",
        "    \"https://www.snapdeal.com/product/nut-toppers-arabian-dates-800/662629125473\",\n",
        "    \"https://www.snapdeal.com/product/dakadu-pack-of-24-adhesive/632293992300#bcrumbLabelId:8651\",\n",
        "    \"https://www.snapdeal.com/product/leakage-repair-waterproof-tape-for/676859892431\",\n",
        "    \"https://www.snapdeal.com/product/ezzideal-blue-virgin-plastic-easy/1256953579#bcrumbLabelId:46102858\",\n",
        "    \"https://www.snapdeal.com/product/gazal-fashions-red-banarasi-silk/5188147395679512622#bcrumbLabelId:176\",\n",
        "    \"https://www.snapdeal.com/product/rage-gaze-pu-brown-casual/632657477424\",\n",
        "    \"https://www.snapdeal.com/product/sh-nasima-closet-organizers-pack/661127852572\",\n",
        "    \"https://www.snapdeal.com/product/topware-faux-leather-brown-casual/618782211099#bcrumbLabelId:46139355\",\n",
        "    \"https://www.snapdeal.com/product/sambhav-deals-pu-tan-formal/670993774775#bcrumbLabelId:46139355\",\n",
        "    \"https://www.snapdeal.com/product/glorious-pink-cotton-aline-kurti/663061347291\",\n",
        "    \"https://www.snapdeal.com/product/sachinsales-resistance-tube-exercise-bands/635078391166\",\n",
        "    \"https://www.snapdeal.com/product/hetsa-rust-cotton-blend-straight/8646911954626999414\",\n",
        "    \"https://www.snapdeal.com/product/sh-nasima-set-of-02/674365700984#bcrumbLabelId:8651\",\n",
        "    \"https://www.snapdeal.com/product/comey-cotton-blend-pink-solids/6341068901840999593\",\n",
        "    \"https://www.snapdeal.com/product/herbalife-200g-personalized-protein-powder/639121239022\",\n",
        "    \"https://www.snapdeal.com/product/lotus-flower-seeds-mix-colors/637782915653\",\n",
        "    \"https://www.snapdeal.com/product/analog-kichenware-utility-knife-3/5764608148853588121\",\n",
        "    \"https://www.snapdeal.com/product/sharuja-analog-electric-tester/642400936236\",\n",
        "    \"https://www.snapdeal.com/product/lawn-grass-seed-3000-seed/653945083397\",\n",
        "    \"https://www.snapdeal.com/product/jay-ambe-50-kg-weight/675360507695\",\n",
        "    \"https://www.snapdeal.com/product/campus-terminator-n-blue-running/8070451213417691561#bcrumbLabelId:255\",\n",
        "    \"https://www.snapdeal.com/product/asian-lifestyle-gray-casual-shoes/6917529696477217208#bcrumbLabelId:255\",\n",
        "    \"https://www.snapdeal.com/product/allamwar-12pcs-stainless-steel-cookie/5764608156150767097\",\n",
        "    \"https://www.snapdeal.com/product/2-in-1-soap-pump/646826407477\",\n",
        "    \"https://www.snapdeal.com/product/stainless-steel-vestire-powerfree-hand/5764608202055287770\",\n",
        "    \"https://www.snapdeal.com/product/flyfot-kreative-india-plastic-multipurpose/6917529700943501959\",\n",
        "    \"https://www.snapdeal.com/product/plastic-quick-cutter-vegetable-cutter/4899917027919989123\",\n",
        "    \"https://www.snapdeal.com/product/bk-kart-mixed-nuts-500gm/677403230894\",\n",
        "    \"https://www.snapdeal.com/product/bhawna-collection-loard-shiv-trishul/672311651336\",\n",
        "    \"https://www.snapdeal.com/product/milton-thermosteel-1000-ml-flask/1383039\",\n",
        "    \"https://www.snapdeal.com/product/prd-pu-tan-casual-long/634235191285\",\n",
        "    \"https://www.snapdeal.com/product/tantra-fluke-car-bluetooth-kit/675090421220#bcrumbLabelId:46102495\",\n",
        "    \"https://www.snapdeal.com/product/homelux-soldering-iron/649707405173\",\n",
        "    \"https://www.snapdeal.com/product/masala-rangoli-box-dabba-for/648082979993#bcrumbSearch:kitchen\",\n",
        "    \"https://www.snapdeal.com/product/hometales-polyproplene-food-container-set/6917529686805260778#bcrumbSearch:kitchen\",\n",
        "    \"https://www.snapdeal.com/product/kitchen-shelf-storage-rack-self/651274312796#bcrumbSearch:kitchen\",\n",
        "    \"https://www.snapdeal.com/product/bentag-vegetable-fruit-clever-cutter/646347118114\",\n",
        "    \"https://www.snapdeal.com/product/bq-blaque-3-ply-disposable/663097796669\",\n",
        "    \"https://www.snapdeal.com/product/evaahub-electric-rechargable-latest-automatic/652289352506\",\n",
        "    \"https://www.snapdeal.com/product/boldfit-push-up-bar-stand/644707316809#bcrumbLabelId:777\",\n",
        "    \"https://www.snapdeal.com/product/double-spring-tummy-trimmer-pro/623249262781#bcrumbLabelId:777\",\n",
        "    \"https://www.snapdeal.com/product/next-15-ltr-queen1500-electric/645063957236#bcrumbLabelId:234\",\n",
        "    \"https://www.snapdeal.com/product/sweat-belt-hot-shapers-hot/655284657487#bcrumbLabelId:777\",\n",
        "    \"https://www.snapdeal.com/product/unical-shock-resistant-cable-protector/643117396448#bcrumbSearch:smartphones\",\n",
        "    \"https://www.snapdeal.com/product/dust-n-shine-multicolor-stainless/640939517224\",\n",
        "    \"https://www.snapdeal.com/product/jewellery-mini-electronic-weighting-scales/676053262413\",\n",
        "    \"https://www.snapdeal.com/product/nutriley-un-flavoured-mass-gainer/638070292001#bcrumbSearch:mass%20gainer|bcrumbLabelId:46101962\",\n",
        "    \"https://www.snapdeal.com/product/blue-home-and-kitchen-46/644379591950#bcrumbLabelId:694\",\n",
        "    \"https://www.snapdeal.com/product/hometales-6-pcs-stainless-steel/641976717328\",\n",
        "]\n",
        "\n",
        "all_reviews = []\n",
        "counter = 1\n",
        "\n",
        "for url in product_urls:\n",
        "    product_name, reviews = asyncio.get_event_loop().run_until_complete(get_snapdeal_reviews(url))\n",
        "\n",
        "    for review in reviews:\n",
        "        all_reviews.append({\n",
        "            \"Product Name\": product_name,\n",
        "            \"Reviews\": review,\n",
        "        })\n",
        "\n",
        "    print(f\"{counter}. Collected {len(reviews)} reviews for: {product_name}\")\n",
        "    counter += 1\n",
        "    time.sleep(random.uniform(5, 15))\n",
        "\n",
        "# Saving to CSV\n",
        "df = pd.DataFrame(all_reviews)\n",
        "csv_filename = \"Snapdeal_Product_Reviews.csv\"\n",
        "df.to_csv(csv_filename, index=False, encoding=\"utf-8-sig\")\n",
        "\n",
        "print(f\"\\nAll reviews saved to: {csv_filename}\")\n",
        "\n",
        "from google.colab import files\n",
        "files.download(\"Snapdeal_Product_Reviews.csv\")\n"
      ],
      "metadata": {
        "id": "bA6FY6G3lCBZ",
        "colab": {
          "base_uri": "https://localhost:8080/",
          "height": 981
        },
        "outputId": "b0db1bba-a9c9-489f-b29e-8728ccc748b2"
      },
      "execution_count": null,
      "outputs": [
        {
          "output_type": "stream",
          "name": "stdout",
          "text": [
            "1. Collected 10 reviews for: Arni 3 in 1 Large Sink Set Dish Rack Drainer with Tray for Kitchen,Dish Rack Organizers, Plastic Kitchen Rack Dish Drainer Kitchen Rack (Plastic) Dish Drainer Kitchen Rack  (Plastic)\n",
            "2. Collected 10 reviews for: Nut Toppers Arabian Dates, 800 g (400g x 2)\n",
            "3. Collected 10 reviews for: DAKADU Pack of 18 Adhesive Hooks for Walls Heavy Duty Utility Hook Transparent Reusable No Drill Wall Hangers for Key Holder Calendars Photo Frame Cloth Decoration Kitchen Tools Bathroom\n",
            "4. Collected 10 reviews for: Leakage Repair Waterproof Tape for Pipe Leakage Roof Water Leakage Solution Alum - Silver Single Sided Duct Tape ( Pack of 1 )\n",
            "5. Collected 10 reviews for: Ezzi Deals 360 Degree Rotating Magic Bucket Spin Mop Set  (Color as per availability)\n",
            "6. Collected 10 reviews for: Gazal Fashions - Wine Banarasi Silk Saree With Blouse Piece ( Pack of 1 )\n",
            "7. Collected 10 reviews for: RAGE GAZE - Brown PU Men's Regular Wallet ( Pack of 1 )\n",
            "8. Collected 10 reviews for: SH NASIMA - Home Storage Cloth Bags, Saree, Suits, Blouse, Blanket Organiser for Underbed, Almirah (Pack of 3)\n",
            "9. Collected 10 reviews for: Topware Faux Leather Brown Casual Regular Wallet Leather Brown Casual Regular Wallet\n",
            "10. Collected 10 reviews for: Sambhav Deals - Tan PU Men's Regular Wallet ( Pack of 1 )\n",
            "11. Collected 10 reviews for: Glorious - Pink Cotton Women's Front Slit Kurti ( Pack of 1 )\n",
            "12. Collected 10 reviews for: Double Toning Resistance Tube Pull Rope Elastic Rubber Exercise Band for Stretching, Workout, Home Gym and Toning with Heavy Quality D Shaped Handles\n",
            "13. Collected 10 reviews for: Hetsa - Maroon Cotton Blend Women's Straight Kurti ( Pack of 1 )\n",
            "14. Collected 10 reviews for: Set of 02 Underbed Storage Bag, Storage Organizer, Blanket Cover with Front Handle\n",
            "15. Collected 10 reviews for: Comey Cotton Blend Regular Fit Full Sleeves Men's Formal Shirt - Green ( Pack of 1 )\n",
            "16. Collected 10 reviews for: Herbalife Personalized Protein Powder 200 gm Pack of 2\n",
            "17. Collected 10 reviews for: Lotus Flower Seeds mix Colors Seeds For Home Garden 20 Seeds + free seed\n",
            "18. Collected 10 reviews for: Analog Kitchenware Kitchen Utility Knife Set of 3U\n",
            "19. Collected 10 reviews for: SHARUJA Analog Electric Tester\n",
            "20. Collected 10 reviews for: Lawn Grass seed - 3000 seeds/Pack, Instruction Manual Inside Package\n",
            "21. Collected 10 reviews for: JA-50 kg Weight Scale Digital Luggage Weighing Scales Weighing Capacity - 50 Kg Tools Hardware\n",
            "22. Collected 10 reviews for: Campus TERMINATOR (N) Black Running Shoes\n",
            "23. Collected 10 reviews for: ASIAN Green Men's Sports Running Shoes\n",
            "24. Collected 10 reviews for: Allamwar 12pcs Stainless Steel Cookie Cutter Set Pastry Cookie Biscuit Cutter Cake Muffin Decor Mold Mould Multi Functional Tool\n",
            "25. Collected 10 reviews for: 2 in 1 Pump Plastic Dispenser for Dishwasher Liquid Holder (Multi Colour, Standard, 385ml)\n",
            "26. Collected 10 reviews for: Stainless Steel Vestire Manual Hand Blender for Egg & Cream Beater, Milkshake, Lassi, Butter Milk Mixer\n",
            "27. Collected 10 reviews for: flyfot Kitchenware Plastic Multipurpose Rice Wash Bowl with Handle for Rice V Plastic Strainers 1 Pc\n",
            "28. Collected 10 reviews for: chopwell Red Plastic Manual Kitchen Chopper 450 ml ( Pack of 1 )\n",
            "29. Collected 10 reviews for: BK KART Mixed Nuts 500gm\n",
            "30. Collected 10 reviews for: Shiv Trishul Damru Gold-plated Locket with Rudraksha Mala\n",
            "31. Collected 10 reviews for: Milton Flip Lid 1000 Thermosteel 24 Hours Hot and Cold Water Bottle with Bag, 1 Litre, Silver\n",
            "32. Collected 10 reviews for: PRd PU Tan Casual regular Wallet\n",
            "33. Collected 10 reviews for: Tantra Fluke Pro Bluetooth Receiver 4.1 Bluetooth Kit for Car (Black)\n",
            "34. Collected 10 reviews for: Unique Retail 7 in 1 Electric Soldering/Welding Iron Kit For DIY/Crafts Tools Hardware\n",
            "35. Collected 10 reviews for: Masala Rangoli Box Dabba for Keeping Spices, Spice Box for Kitchen, Plastic Wooden Style Masala Box, Masala Container, Masala Dabba\n",
            "36. Collected 10 reviews for: Microvent Multi-purpose Plastic Kitchen Container Set with vent, 1800ml, 1100ml, 680ml, 360ml, Purple (4U)\n",
            "37. Collected 10 reviews for: Ezybe Self Adhesive Kichen Shelf Light Blue Plastic Storage Racks (Pack of 2)\n",
            "38. Collected 10 reviews for: Bentag kitchenware Vegetable & Fruit Clever Cutter Stainless Steel Vegetable Scissor\n",
            "39. Collected 10 reviews for: BLAQUE 3 Ply Anti Viral, Anti Pollution Surgical Disposable Face Mask With Nose Pin & Meltblown Layer- Pack of 100 (Blue)\n",
            "40. Collected 10 reviews for: Automatic Wireless Electric Rechargeable Drinking Water Dispenser Pump for 20 Liter Bottle Can with USB Charging Cable (Assorted Color)\n",
            "41. Collected 10 reviews for: Amar Push Up Bar Stand For Gym & Home Exercise, Strengthens Muscles of Arms, Abdomen and Shoulders for men and women\n",
            "42. Collected 10 reviews for: Double Spring Tummy Trimmer for Abs Exerciser,Body Toner and Fat Buster| For Men and Women\n",
            "43. Collected 10 reviews for: Next Queen-1500 Liter Watt Stainless Steel Electric Kettle\n",
            "44. Collected 10 reviews for: sweat BELT hot shapers hot shaper sauna tummy trimmer slimming belt\n",
            "45. Collected 10 reviews for: UNICAL Shock Resistant Cable Protector for Smartphones and Tablets ( Multicolor )\n",
            "46. Collected 10 reviews for: dust n shine Multicolor Stainless Steel Steal scrubber pack of 12 ( Set of 12 )\n",
            "47. Collected 10 reviews for: Dealcrox-Digital Display 0.1 g to 200 g Mini Pocket Weight Scale Measurement Jewellery Weighing Machine (Multicolor)\n",
            "48. Collected 10 reviews for: Nutriley Muscle Gainer Capsules, Mass Gainer, Increase Muscle Mass & Strength, 60 Capsules\n",
            "49. Collected 10 reviews for: BLUE-46Pcs Wrench Socket Screwdriver Set For Car/Motorcycle & Home Repairing Tool Kit\n",
            "50. Collected 10 reviews for: Dynore Stainless Steel 2 in 1 Partition Plate for Kitchen Serving, 22cm Length per unit, (Pack of 6)\n",
            "\n",
            "All reviews saved to: Snapdeal_Product_Reviews.csv\n"
          ]
        },
        {
          "output_type": "display_data",
          "data": {
            "text/plain": [
              "<IPython.core.display.Javascript object>"
            ],
            "application/javascript": [
              "\n",
              "    async function download(id, filename, size) {\n",
              "      if (!google.colab.kernel.accessAllowed) {\n",
              "        return;\n",
              "      }\n",
              "      const div = document.createElement('div');\n",
              "      const label = document.createElement('label');\n",
              "      label.textContent = `Downloading \"${filename}\": `;\n",
              "      div.appendChild(label);\n",
              "      const progress = document.createElement('progress');\n",
              "      progress.max = size;\n",
              "      div.appendChild(progress);\n",
              "      document.body.appendChild(div);\n",
              "\n",
              "      const buffers = [];\n",
              "      let downloaded = 0;\n",
              "\n",
              "      const channel = await google.colab.kernel.comms.open(id);\n",
              "      // Send a message to notify the kernel that we're ready.\n",
              "      channel.send({})\n",
              "\n",
              "      for await (const message of channel.messages) {\n",
              "        // Send a message to notify the kernel that we're ready.\n",
              "        channel.send({})\n",
              "        if (message.buffers) {\n",
              "          for (const buffer of message.buffers) {\n",
              "            buffers.push(buffer);\n",
              "            downloaded += buffer.byteLength;\n",
              "            progress.value = downloaded;\n",
              "          }\n",
              "        }\n",
              "      }\n",
              "      const blob = new Blob(buffers, {type: 'application/binary'});\n",
              "      const a = document.createElement('a');\n",
              "      a.href = window.URL.createObjectURL(blob);\n",
              "      a.download = filename;\n",
              "      div.appendChild(a);\n",
              "      a.click();\n",
              "      div.remove();\n",
              "    }\n",
              "  "
            ]
          },
          "metadata": {}
        },
        {
          "output_type": "display_data",
          "data": {
            "text/plain": [
              "<IPython.core.display.Javascript object>"
            ],
            "application/javascript": [
              "download(\"download_ae1dfc8a-7b6c-455e-af67-da4bf1df8280\", \"Snapdeal_Product_Reviews.csv\", 77601)"
            ]
          },
          "metadata": {}
        }
      ]
    },
    {
      "cell_type": "markdown",
      "source": [
        "# **Sentiment Analysis**"
      ],
      "metadata": {
        "id": "IBPKC9i9_JK0"
      }
    },
    {
      "cell_type": "code",
      "source": [
        "nltk.download('vader_lexicon')\n",
        "df = pd.read_csv(\"Snapdeal_Product_Reviews.csv\")\n",
        "\n",
        "sia = SentimentIntensityAnalyzer()\n",
        "\n",
        "# Function to analyze sentiment\n",
        "def get_sentiment(text):\n",
        "    sentiment_score = sia.polarity_scores(str(text))\n",
        "    if sentiment_score['compound'] >= 0.05:\n",
        "        return \"Positive\"\n",
        "    elif sentiment_score['compound'] <= -0.05:\n",
        "        return \"Negative\"\n",
        "    else:\n",
        "        return \"Neutral\"\n",
        "\n",
        "df[\"Sentiment\"] = df[\"Reviews\"].apply(get_sentiment)\n",
        "\n",
        "# Aggregate sentiment per product\n",
        "product_sentiment = df.groupby(\"Product Name\")[\"Sentiment\"].value_counts().unstack(fill_value=0)\n",
        "product_sentiment[\"Total Reviews\"] = product_sentiment.sum(axis=1)\n",
        "product_sentiment[\"Positive %\"] = (product_sentiment.get(\"Positive\", 0) / product_sentiment[\"Total Reviews\"]) * 100\n",
        "product_sentiment[\"Negative %\"] = (product_sentiment.get(\"Negative\", 0) / product_sentiment[\"Total Reviews\"]) * 100\n",
        "product_sentiment[\"Neutral %\"] = (product_sentiment.get(\"Neutral\", 0) / product_sentiment[\"Total Reviews\"]) * 100\n",
        "\n",
        "def classify_overall_sentiment(row):\n",
        "    if row[\"Positive %\"] > 50:\n",
        "        return \"Liked\"\n",
        "    elif row[\"Negative %\"] > 50:\n",
        "        return \"Not Liked\"\n",
        "    else:\n",
        "        return \"Mixed Opinion\"\n",
        "\n",
        "# Classification\n",
        "product_sentiment[\"Overall Sentiment\"] = product_sentiment.apply(classify_overall_sentiment, axis=1)\n",
        "\n",
        "df.to_csv(\"Reviews_Sentiment_Analysis.csv\", index=False, encoding=\"utf-8-sig\")\n",
        "product_sentiment.to_csv(\"Product_Sentiment_Analysis.csv\", encoding=\"utf-8-sig\")\n",
        "\n",
        "print(\"Sentiment analysis completed. Results saved to CSV files.\")\n",
        "\n",
        "def generate_summary():\n",
        "\n",
        "    sentiment_counts = df[\"Sentiment\"].value_counts().to_dict()\n",
        "    total_reviews = len(df)\n",
        "    summary = f\"Out of {total_reviews} reviews:\\n\"\n",
        "    for sentiment, count in sentiment_counts.items():\n",
        "        summary += f\"-> {sentiment}: {count} reviews ({(count/total_reviews)*100:.2f}%)\\n\"\n",
        "    return summary\n",
        "\n",
        "print(generate_summary())\n"
      ],
      "metadata": {
        "colab": {
          "base_uri": "https://localhost:8080/"
        },
        "id": "sOLbOyXjFicN",
        "outputId": "da892fb2-d317-43a2-b8ef-21fc71ce09d5"
      },
      "execution_count": null,
      "outputs": [
        {
          "output_type": "stream",
          "name": "stdout",
          "text": [
            "Sentiment analysis completed. Results saved to CSV files.\n",
            "Out of 500 reviews:\n",
            "-> Positive: 279 reviews (55.80%)\n",
            "-> Negative: 163 reviews (32.60%)\n",
            "-> Neutral: 58 reviews (11.60%)\n",
            "\n"
          ]
        },
        {
          "output_type": "stream",
          "name": "stderr",
          "text": [
            "[nltk_data] Downloading package vader_lexicon to /root/nltk_data...\n",
            "[nltk_data]   Package vader_lexicon is already up-to-date!\n"
          ]
        }
      ]
    },
    {
      "cell_type": "markdown",
      "source": [
        "# **Aspect Based Opinion Mining**"
      ],
      "metadata": {
        "id": "DMmPePVaAH7P"
      }
    },
    {
      "cell_type": "code",
      "source": [
        "nltk.download('vader_lexicon')\n",
        "nlp = spacy.load(\"en_core_web_sm\")\n",
        "sia = SentimentIntensityAnalyzer()\n",
        "\n",
        "df = pd.read_csv(\"Snapdeal_Product_Reviews.csv\")\n",
        "\n",
        "# Defining key aspects to analyze\n",
        "aspects = [\"quality\", \"price\", \"delivery\", \"pack\", \"performance\", \"item\", \"product\", \"useful\",\n",
        "           \"material\", \"design\", \"service\", \"fabric\", \"satisf\", \"sharper\", \"weight\", \"cloth\", \"look\",\n",
        "         \"fit\", \"comfort\", \"size\", \"deal\", \"worth\", \"gas\", \"easy\", \"colour\"]\n",
        "\n",
        "def extract_aspects(text):\n",
        "    found_aspects = [aspect for aspect in aspects if aspect in text.lower()]\n",
        "    return list(set(found_aspects))  # Ensure unique aspects\n",
        "\n",
        "def analyze_sentiment(text):\n",
        "    sentiment_score = sia.polarity_scores(text)['compound']\n",
        "    return \"Positive\" if sentiment_score > 0.05 else \"Negative\" if sentiment_score < -0.05 else \"Neutral\"\n",
        "\n",
        "# Apply functions to dataset\n",
        "df['Aspects'] = df['Reviews'].astype(str).apply(extract_aspects)\n",
        "df['Sentiment'] = df['Reviews'].astype(str).apply(analyze_sentiment)\n",
        "\n",
        "# Convert aspect lists to comma-separated strings to avoid duplication\n",
        "df['Aspects'] = df['Aspects'].apply(lambda x: ', '.join(x) if x else 'None')\n",
        "\n",
        "df = df.drop_duplicates(subset=['Reviews'])\n",
        "df.to_csv(\"Aspect_Based_Opinion_Mining_Results.csv\", index=False)\n",
        "\n",
        "print(\"\\nAspect-based opinion mining completed. Results saved to Aspect_Based_Opinion_Mining_Results.csv\")\n",
        "print(\"Total unique reviews in dataset:\", len(df))\n",
        "print(\"Number of reviews with extracted aspects:\", (df['Aspects'] != 'None').sum())\n",
        "print(\"Number of reviews with NO aspects:\", (df['Aspects'] == 'None').sum())\n"
      ],
      "metadata": {
        "colab": {
          "base_uri": "https://localhost:8080/"
        },
        "id": "xbJmhTybGB_7",
        "outputId": "457f599a-e561-4e5e-c557-322368d7c5c2"
      },
      "execution_count": null,
      "outputs": [
        {
          "output_type": "stream",
          "name": "stderr",
          "text": [
            "[nltk_data] Downloading package vader_lexicon to /root/nltk_data...\n",
            "[nltk_data]   Package vader_lexicon is already up-to-date!\n"
          ]
        },
        {
          "output_type": "stream",
          "name": "stdout",
          "text": [
            "\n",
            "Aspect-based opinion mining completed. Results saved to Aspect_Based_Opinion_Mining_Results.csv\n",
            "Total unique reviews in dataset: 497\n",
            "Number of reviews with extracted aspects: 410\n",
            "Number of reviews with NO aspects: 87\n"
          ]
        }
      ]
    },
    {
      "cell_type": "code",
      "source": [
        "aspect_df = pd.read_csv(\"Aspect_Based_Opinion_Mining_Results.csv\")\n",
        "sentiment_df = pd.read_csv(\"Product_Sentiment_Analysis.csv\")\n",
        "\n",
        "def get_most_frequent_aspect(aspect_series):\n",
        "    all_aspects = []\n",
        "\n",
        "    for entry in aspect_series.dropna():\n",
        "        parts = [a.strip().lower() for a in entry.split(',') if a.strip()]\n",
        "        all_aspects.extend(parts)\n",
        "\n",
        "    if not all_aspects:\n",
        "        return \"None\"\n",
        "\n",
        "    aspect_counts = Counter(all_aspects)\n",
        "    max_freq = max(aspect_counts.values())\n",
        "    tied_aspects = sorted([aspect for aspect, count in aspect_counts.items() if count == max_freq])\n",
        "    return tied_aspects[0]  # Alphabetical tie-breaker\n",
        "\n",
        "results = []\n",
        "\n",
        "for _, row in sentiment_df.iterrows():\n",
        "    product_name = row['Product Name']\n",
        "    overall_sentiment = row['Overall Sentiment'].strip().lower()\n",
        "\n",
        "    # Filtering aspect data for this product\n",
        "    product_aspects = aspect_df[aspect_df['Product Name'] == product_name]\n",
        "\n",
        "    if overall_sentiment == \"mixed opinion\":\n",
        "        pos_percent = row.get('Positive %', 0)\n",
        "        neg_percent = row.get('Negative %', 0)\n",
        "        neu_percent = row.get('Neutral %', 0)\n",
        "\n",
        "        # Determining dominant sentiment with priority: If Tie (Negative > Positive > Neutral)\n",
        "        sentiments = {\n",
        "            'positive': pos_percent,\n",
        "            'negative': neg_percent,\n",
        "            'neutral': neu_percent\n",
        "        }\n",
        "\n",
        "        max_value = max(sentiments.values())\n",
        "        dominant_sentiments = [k for k, v in sentiments.items() if v == max_value]\n",
        "\n",
        "        if 'negative' in dominant_sentiments:\n",
        "            worst = get_most_frequent_aspect(product_aspects['Aspects'])\n",
        "            results.append({\n",
        "                \"Product Name\": product_name,\n",
        "                \"best_aspect\": \"None\",\n",
        "                \"worst_aspect\": worst\n",
        "            })\n",
        "        elif 'positive' in dominant_sentiments:\n",
        "            best = get_most_frequent_aspect(product_aspects['Aspects'])\n",
        "            results.append({\n",
        "                \"Product Name\": product_name,\n",
        "                \"best_aspect\": best,\n",
        "                \"worst_aspect\": \"None\"\n",
        "            })\n",
        "        else:  # pure tie or max is neutral\n",
        "            results.append({\n",
        "                \"Product Name\": product_name,\n",
        "                \"best_aspect\": \"Mix\",\n",
        "                \"worst_aspect\": \"Mix\"\n",
        "            })\n",
        "\n",
        "    elif overall_sentiment == \"liked\":\n",
        "        best = get_most_frequent_aspect(product_aspects['Aspects'])\n",
        "        results.append({\n",
        "            \"Product Name\": product_name,\n",
        "            \"best_aspect\": best,\n",
        "            \"worst_aspect\": \"None\"\n",
        "        })\n",
        "\n",
        "    elif overall_sentiment == \"not liked\":\n",
        "        worst = get_most_frequent_aspect(product_aspects['Aspects'])\n",
        "        results.append({\n",
        "            \"Product Name\": product_name,\n",
        "            \"best_aspect\": \"None\",\n",
        "            \"worst_aspect\": worst\n",
        "        })\n",
        "\n",
        "result_df = pd.DataFrame(results)\n",
        "result_df.to_csv(\"Best_Worst_Aspects_Per_Product.csv\", index=False)\n",
        "\n",
        "print(\"Best and worst aspects saved to Best_Worst_Aspects_Per_Product.csv\")\n"
      ],
      "metadata": {
        "colab": {
          "base_uri": "https://localhost:8080/"
        },
        "id": "wsvgatKf0NJa",
        "outputId": "3baeb83c-b208-4954-e734-ae9e70482513"
      },
      "execution_count": null,
      "outputs": [
        {
          "output_type": "stream",
          "name": "stdout",
          "text": [
            "Best and worst aspects saved to Best_Worst_Aspects_Per_Product.csv\n"
          ]
        }
      ]
    },
    {
      "cell_type": "markdown",
      "source": [
        "# **Product Annotation**"
      ],
      "metadata": {
        "id": "umfStQb3D-eb"
      }
    },
    {
      "cell_type": "code",
      "source": [
        "df = pd.read_csv(\"Reviews_Sentiment_Analysis.csv\")\n",
        "\n",
        "# Function to aggregate sentiment for each product\n",
        "def aggregate_usefulness(sentiments):\n",
        "    positive_count = sum(1 for s in sentiments if s.lower() == \"positive\")\n",
        "    negative_count = sum(1 for s in sentiments if s.lower() == \"negative\")\n",
        "\n",
        "    if positive_count > negative_count:\n",
        "        return \"Yes\"\n",
        "    elif negative_count > positive_count:\n",
        "        return \"No\"\n",
        "    else:\n",
        "        return \"Maybe\"\n",
        "\n",
        "# Group by Product Name and collect sentiments\n",
        "grouped = df.groupby('Product Name')['Sentiment'].apply(list).reset_index()\n",
        "\n",
        "# Annotate usefulness\n",
        "grouped['Useful_in_India'] = grouped['Sentiment'].apply(aggregate_usefulness)\n",
        "\n",
        "grouped.to_csv(\"Annotated_Product_Summary.csv\", index=False, encoding=\"utf-8-sig\")\n",
        "\n",
        "from google.colab import files\n",
        "files.download(\"Annotated_Product_Summary.csv\")\n",
        "\n",
        "print(\"Product annotation completed. Results saved to CSV files.\")\n"
      ],
      "metadata": {
        "colab": {
          "base_uri": "https://localhost:8080/",
          "height": 35
        },
        "id": "T2Tmr5w3y71-",
        "outputId": "83547f91-e9f1-419b-94f1-8387a8c4469c"
      },
      "execution_count": null,
      "outputs": [
        {
          "output_type": "display_data",
          "data": {
            "text/plain": [
              "<IPython.core.display.Javascript object>"
            ],
            "application/javascript": [
              "\n",
              "    async function download(id, filename, size) {\n",
              "      if (!google.colab.kernel.accessAllowed) {\n",
              "        return;\n",
              "      }\n",
              "      const div = document.createElement('div');\n",
              "      const label = document.createElement('label');\n",
              "      label.textContent = `Downloading \"${filename}\": `;\n",
              "      div.appendChild(label);\n",
              "      const progress = document.createElement('progress');\n",
              "      progress.max = size;\n",
              "      div.appendChild(progress);\n",
              "      document.body.appendChild(div);\n",
              "\n",
              "      const buffers = [];\n",
              "      let downloaded = 0;\n",
              "\n",
              "      const channel = await google.colab.kernel.comms.open(id);\n",
              "      // Send a message to notify the kernel that we're ready.\n",
              "      channel.send({})\n",
              "\n",
              "      for await (const message of channel.messages) {\n",
              "        // Send a message to notify the kernel that we're ready.\n",
              "        channel.send({})\n",
              "        if (message.buffers) {\n",
              "          for (const buffer of message.buffers) {\n",
              "            buffers.push(buffer);\n",
              "            downloaded += buffer.byteLength;\n",
              "            progress.value = downloaded;\n",
              "          }\n",
              "        }\n",
              "      }\n",
              "      const blob = new Blob(buffers, {type: 'application/binary'});\n",
              "      const a = document.createElement('a');\n",
              "      a.href = window.URL.createObjectURL(blob);\n",
              "      a.download = filename;\n",
              "      div.appendChild(a);\n",
              "      a.click();\n",
              "      div.remove();\n",
              "    }\n",
              "  "
            ]
          },
          "metadata": {}
        },
        {
          "output_type": "display_data",
          "data": {
            "text/plain": [
              "<IPython.core.display.Javascript object>"
            ],
            "application/javascript": [
              "download(\"download_4a76c3c2-7085-4a35-9785-61efe46699c5\", \"Annotated_Product_Summary.csv\", 10664)"
            ]
          },
          "metadata": {}
        },
        {
          "output_type": "stream",
          "name": "stdout",
          "text": [
            "Product annotation completed. Results saved to CSV files.\n"
          ]
        }
      ]
    },
    {
      "cell_type": "markdown",
      "source": [
        "# **Model Classification & Evaluation**"
      ],
      "metadata": {
        "id": "JOM1A_vlEsnm"
      }
    },
    {
      "cell_type": "code",
      "source": [
        "from sklearn.pipeline import make_pipeline\n",
        "from sklearn.ensemble import RandomForestClassifier\n",
        "from sklearn.model_selection import train_test_split\n",
        "from sklearn.feature_extraction.text import CountVectorizer\n",
        "from sklearn.metrics import classification_report, accuracy_score\n",
        "import ast  # For safely converting stringified list to actual list\n",
        "\n",
        "df = pd.read_csv(\"Annotated_Product_Summary.csv\")\n",
        "df['sentiment_label'] = df['Useful_in_India'].map({'Yes': 1, 'No': 0})\n",
        "\n",
        "# Convert stringified lists to actual lists\n",
        "df['Sentiment'] = df['Sentiment'].apply(ast.literal_eval)\n",
        "\n",
        "# Join list of sentiments into a single string\n",
        "df['combined_features'] = df['Sentiment'].apply(lambda x: ' '.join(x))\n",
        "\n",
        "X = df['combined_features']\n",
        "y = df['sentiment_label']\n",
        "X_train, X_test, y_train, y_test = train_test_split(X, y, test_size=0.2, random_state=42)\n",
        "\n",
        "# Building pipeline\n",
        "pipeline = make_pipeline(\n",
        "    CountVectorizer(stop_words='english'),\n",
        "    RandomForestClassifier(n_estimators=100, random_state=42)\n",
        ")\n",
        "\n",
        "pipeline.fit(X_train, y_train)\n",
        "y_pred = pipeline.predict(X_test)\n",
        "\n",
        "print(\"Classification Report:\\n\")\n",
        "print(classification_report(y_test, y_pred))\n",
        "print(\"Accuracy:\", accuracy_score(y_test, y_pred))\n"
      ],
      "metadata": {
        "colab": {
          "base_uri": "https://localhost:8080/"
        },
        "id": "XJ-VAsty8D2N",
        "outputId": "0b08c45a-53ce-43d7-d609-17f903c00e50"
      },
      "execution_count": null,
      "outputs": [
        {
          "output_type": "stream",
          "name": "stdout",
          "text": [
            "Classification Report:\n",
            "\n",
            "              precision    recall  f1-score   support\n",
            "\n",
            "           0       1.00      1.00      1.00         6\n",
            "           1       1.00      1.00      1.00         4\n",
            "\n",
            "    accuracy                           1.00        10\n",
            "   macro avg       1.00      1.00      1.00        10\n",
            "weighted avg       1.00      1.00      1.00        10\n",
            "\n",
            "Accuracy: 1.0\n"
          ]
        }
      ]
    },
    {
      "cell_type": "code",
      "source": [
        "from sklearn.model_selection import cross_val_score\n",
        "\n",
        "scores = cross_val_score(pipeline, X, y, cv=5, scoring='accuracy')\n",
        "print(\"Cross-Validation Accuracy Scores:\", scores)\n",
        "print(\"Mean Accuracy:\", scores.mean())\n"
      ],
      "metadata": {
        "colab": {
          "base_uri": "https://localhost:8080/"
        },
        "id": "L41NFPSxRHiS",
        "outputId": "0517f2db-ce33-470e-d5c6-e3ad26b8146d"
      },
      "execution_count": null,
      "outputs": [
        {
          "output_type": "stream",
          "name": "stdout",
          "text": [
            "Cross-Validation Accuracy Scores: [1. 1. 1. 1. 1.]\n",
            "Mean Accuracy: 1.0\n"
          ]
        }
      ]
    },
    {
      "cell_type": "code",
      "source": [
        "from sklearn.metrics import roc_auc_score, roc_curve\n",
        "import matplotlib.pyplot as plt\n",
        "\n",
        "y_proba = pipeline.predict_proba(X_test)[:, 1]\n",
        "fpr, tpr, _ = roc_curve(y_test, y_proba)\n",
        "\n",
        "plt.plot(fpr, tpr, label='ROC Curve')\n",
        "plt.plot([0, 1], [0, 1], 'k--')\n",
        "plt.xlabel('False Positive Rate')\n",
        "plt.ylabel('True Positive Rate')\n",
        "plt.title('ROC Curve')\n",
        "plt.legend()\n",
        "plt.show()\n",
        "\n",
        "print(\"\\nAUC Score:\", roc_auc_score(y_test, y_proba))\n"
      ],
      "metadata": {
        "colab": {
          "base_uri": "https://localhost:8080/",
          "height": 508
        },
        "id": "5We2T3zrRlkN",
        "outputId": "de3a11e5-055a-4285-9507-851dc62b0207"
      },
      "execution_count": null,
      "outputs": [
        {
          "output_type": "display_data",
          "data": {
            "text/plain": [
              "<Figure size 640x480 with 1 Axes>"
            ],
            "image/png": "[encoded data removed]"
          },
          "metadata": {}
        },
        {
          "output_type": "stream",
          "name": "stdout",
          "text": [
            "\n",
            "AUC Score: 1.0\n"
          ]
        }
      ]
    },
    {
      "cell_type": "code",
      "source": [
        "# for x, y_true, y_hat in zip(X_test, y_test, y_pred):\n",
        "#     print(f\"Review: {x}\\nActual: {y_true}, Predicted: {y_hat}\\n\")\n"
      ],
      "metadata": {
        "id": "5oamwZtYQQ8O"
      },
      "execution_count": null,
      "outputs": []
    },
    {
      "cell_type": "code",
      "source": [
        "# import xgboost as xgb\n",
        "# from sklearn.svm import SVC\n",
        "# from sklearn.naive_bayes import MultinomialNB\n",
        "# from sklearn.linear_model import LogisticRegression\n",
        "# from sklearn.model_selection import cross_val_score\n",
        "# from sklearn.ensemble import RandomForestClassifier\n",
        "# from sklearn.feature_extraction.text import CountVectorizer\n",
        "\n",
        "# # Initialize the CountVectorizer\n",
        "# vectorizer = CountVectorizer(stop_words='english')\n",
        "\n",
        "# # Joining sentiment lists into one string\n",
        "# df['Sentiment_Combined'] = df['Sentiment'].apply(lambda x: ' '.join(x))\n",
        "\n",
        "# X = df['Sentiment_Combined']\n",
        "# y = df['sentiment_label']\n",
        "\n",
        "# # Vectorizing the text data\n",
        "# X_vectorized = vectorizer.fit_transform(X)\n",
        "\n",
        "# models = {\n",
        "#     \"Logistic Regression\": LogisticRegression(random_state=42),\n",
        "#     \"Naive Bayes\": MultinomialNB(),\n",
        "#     \"Random Forest\": RandomForestClassifier(n_estimators=100, random_state=42),\n",
        "#     \"SVM\": SVC(random_state=42),\n",
        "#     \"XGBoost\": xgb.XGBClassifier(random_state=42)\n",
        "# }\n",
        "\n",
        "# # Store cross-validation scores\n",
        "# model_names = []\n",
        "# cv_scores = []\n",
        "\n",
        "# # Performing 5-fold cross-validation for each model\n",
        "# for name, model in models.items():\n",
        "#     scores = cross_val_score(model, X_vectorized, y, cv=5, scoring='accuracy')\n",
        "#     model_names.append(name)\n",
        "#     cv_scores.append(scores.mean())\n",
        "\n",
        "# plt.figure(figsize=(10, 6))\n",
        "# plt.barh(model_names, cv_scores, color='skyblue')\n",
        "# plt.xlabel('Cross-Validation Accuracy')\n",
        "# plt.title('Model Comparison (Cross-Validation Accuracy)')\n",
        "# plt.xlim(0, 1)\n",
        "# plt.grid(True)\n",
        "# plt.tight_layout()\n",
        "# plt.show()\n",
        "\n",
        "# for name, score in zip(model_names, cv_scores):\n",
        "#     print(f\"{name} - Mean Accuracy: {score:.4f}\")\n"
      ],
      "metadata": {
        "colab": {
          "base_uri": "https://localhost:8080/",
          "height": 698
        },
        "id": "LF--lyakSB9C",
        "outputId": "709245dc-2205-4a2e-935c-02c024871c02"
      },
      "execution_count": null,
      "outputs": [
        {
          "output_type": "display_data",
          "data": {
            "text/plain": [
              "<Figure size 1000x600 with 1 Axes>"
            ],
            "image/png": "[encoded data removed]"
          },
          "metadata": {}
        },
        {
          "output_type": "stream",
          "name": "stdout",
          "text": [
            "Logistic Regression - Mean Accuracy: 1.0000\n",
            "Naive Bayes - Mean Accuracy: 0.9400\n",
            "Random Forest - Mean Accuracy: 1.0000\n",
            "SVM - Mean Accuracy: 1.0000\n",
            "XGBoost - Mean Accuracy: 0.9800\n"
          ]
        }
      ]
    }
  ]
}